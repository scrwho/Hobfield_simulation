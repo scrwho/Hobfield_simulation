{
 "cells": [
  {
   "cell_type": "code",
   "execution_count": 1,
   "id": "1b039f24-4f4b-485d-b4bc-a89255d9c16f",
   "metadata": {},
   "outputs": [],
   "source": [
    "import numpy as np\n",
    "import matplotlib.pyplot as plt\n",
    "import copy\n",
    "import random\n",
    "import math\n",
    "\n",
    "import pandas as pd\n",
    "import time\n",
    "\n",
    "from time import time\n",
    "from time import *\n",
    "\n",
    "from mpl_toolkits.mplot3d import Axes3D\n",
    "\n",
    "import statistics as st\n",
    "\n",
    "import gc \n",
    "\n",
    "from datetime import datetime\n",
    "import tqdm"
   ]
  },
  {
   "cell_type": "markdown",
   "id": "643b018c-d643-48a2-ba7b-a2d9ab7cb726",
   "metadata": {},
   "source": [
    "This code consists of several functions for a Hopfield Network. Some of the functions are:\n",
    "\n",
    "    IsScalar: returns a Boolean indicating whether the input is a scalar (not a list or numpy array).\n",
    "    Thresh: threshold function that returns -1 for negative input and 1 for positive input.\n",
    "    Transpose: returns the transpose of the input array.\n",
    "    weight: returns the dot product of the transpose of the input array with the input array.\n",
    "    weight_self: returns the dot product of the transpose of the input array with the input array, after applying the Thresh function.\n",
    "    randomize: generates random values without repetition.\n",
    "    randd: generates random permutation.\n",
    "    Hamming: returns the number of elements in two arrays that are different.\n",
    "    Mod_Hamming: returns the number of elements in two arrays that are different, with a special case when the arrays are negations of each other.\n",
    "    prime_generator: returns a list of prime numbers up to a given end.\n",
    "    Prime_List: returns a list of tuples of prime numbers, where each tuple consists of a prime number and a number that's close to it.\n",
    "    Prime_range: returns a list of prime numbers in a given range.\n",
    "    Update: returns the updated value in the Hopfield Network based on the current weight and input.\n",
    "    Updateb: returns the updated value in the Hopfield Network based on the current weight and mean of input.\n",
    "    add_percentage_noise: adds noise to an input array by flipping a certain percentage of its elements from 1 to -1 and vice versa.\n",
    "    recall_memory: returns the Hamming distance between an updated rule and each pattern in the network."
   ]
  },
  {
   "cell_type": "code",
   "execution_count": 2,
   "id": "4d1c3055-7fe1-4e9f-a61e-09b1fc05078b",
   "metadata": {
    "tags": []
   },
   "outputs": [],
   "source": [
    "# Useful functions\n",
    "# @njit\n",
    "def IsScalar(x):\n",
    "    return not isinstance(x, (list, np.ndarray))\n",
    "    \n",
    "\n",
    "'''\n",
    "Make sure the values in the hopefild Network \n",
    "are bipolar (-1,1)\n",
    "'''\n",
    "def Thresh(x):\n",
    "    return np.sign(x)\n",
    "\n",
    "\n",
    "'''\n",
    "Define Transpose for special cases\n",
    "'''\n",
    "def Transpose(x):\n",
    "    return np.transpose(x)\n",
    "\n",
    "\n",
    "'''\n",
    "Generate random Network with N Neurons and n Patterns\n",
    "'''\n",
    "def RandomNet(N, n=1):\n",
    "    out = np.random.normal(size=(n, N)) if n != 1 else np.random.normal(size=N)\n",
    "    return np.sign(out)\n",
    "\n",
    "\n",
    "\n",
    "'''\n",
    "# A function to calculate the weight of the vector\n",
    "'''\n",
    "\n",
    "def weight(v):\n",
    "    N = v.shape[0]\n",
    "    if v.ndim == 1:\n",
    "        v = v.reshape(-1, 1)\n",
    "        w = v @ v.T\n",
    "    else:\n",
    "        M = v.shape[1]\n",
    "        v = v / np.sqrt(M)\n",
    "        w = v.T @ v\n",
    "        \n",
    "        # w = (v / np.sqrt(M)).T @ v / M\n",
    "    np.fill_diagonal(w, 0)\n",
    "    return w\n",
    "\n",
    "\n",
    "\n",
    "def weight_self(a):\n",
    "    return Thresh(a.T @ a) - np.identity(a.shape[1])\n",
    "\n",
    "\n",
    "'''\n",
    "# A function to genetate random values without repeat\n",
    "# Also for random permutation\n",
    "'''\n",
    "def randomize(N):\n",
    "    return np.random.choice(N, size=N, replace=False)\n",
    "\n",
    "def randd(N):\n",
    "    return np.random.permutation(N)\n",
    "\n",
    "    \n",
    "'''\n",
    "# A function that show the number cordinates that are different \n",
    "'''   \n",
    "def Hamming(x,y):\n",
    "    return np.count_nonzero(x!=y)\n",
    "\n",
    "    \n",
    "def Mod_Hamming(x,y):\n",
    "    if (x==-1*y).all():\n",
    "        return -1\n",
    "    elif (-1*x==y).all():\n",
    "        return -1\n",
    "    else:\n",
    "        return np.count_nonzero(x!=y)\n",
    "\n",
    "\n",
    "'''\n",
    "# Prime number generator\n",
    "'''              \n",
    "\n",
    "def prime_generator(end):\n",
    "    primes = [True for i in range(end + 1)]\n",
    "    p = 2\n",
    "    while p * p <= end:\n",
    "        if primes[p]:\n",
    "            for i in range(p * 2, end + 1, p):\n",
    "                primes[i] = False\n",
    "        p += 1\n",
    "    return [p for p in range(3, end) if primes[p]]\n",
    "\n",
    "def Prime_List(l):\n",
    "    a = prime_generator(l)\n",
    "    out = [(i, i + int(0.09 * i)) for i in a]\n",
    "    return out\n",
    "\n",
    "def Prime_range(a, b):\n",
    "    primes = prime_generator(b)\n",
    "    out = [p for p in primes if p >= a]\n",
    "    return out\n",
    "\n",
    "\n",
    "\n",
    "\n",
    "'''\n",
    "# A function for update in hopfield net\n",
    "'''  \n",
    "\n",
    "def hopfield_update(weights, inputs, threshold=0):\n",
    "    \"\"\"\n",
    "    The optimized Hopfield network update rule with asynchronous update.\n",
    "    Parameters:\n",
    "    - weights (np.array): The weight matrix of the Hopfield network.\n",
    "    - inputs (np.array): The current state of the Hopfield network.\n",
    "    - threshold (int): The activation threshold.\n",
    "    Returns:\n",
    "    - updated_state (np.array): The updated state of the Hopfield network.\n",
    "    \"\"\"\n",
    "    n = inputs.shape[0]\n",
    "    updated_state = inputs.copy()\n",
    "    for i in np.random.permutation(n):\n",
    "        net_input = np.dot(weights[i], updated_state)\n",
    "        if net_input > threshold:\n",
    "            updated_state[i] = 1\n",
    "        elif net_input < -threshold:\n",
    "            updated_state[i] = -1\n",
    "    return updated_state\n",
    "\n",
    "\n",
    "\n",
    "'''\n",
    "# Perturbation of the net\n",
    "'''\n",
    "def add_percentage_noise(x, noise_percentage = 0.1):\n",
    "    '''\n",
    "    Adds a percentage noise to an array.\n",
    "\n",
    "    Parameters:\n",
    "      x (ndarray): input array\n",
    "      noise_percentage (float): percentage of elements to be noised (e.g. 0.1 for 10%)\n",
    "\n",
    "    Returns:\n",
    "      ndarray: array with added noise\n",
    "    '''\n",
    "    x_noised = x.copy()\n",
    "    indices_to_noise = np.random.permutation(np.arange(x.shape[0]))[:int(x.shape[0] * noise_percentage)]\n",
    "    x_noised[indices_to_noise] = np.where(x[indices_to_noise]==1, -1, 1)\n",
    "    return x_noised\n",
    "\n",
    "\n",
    "\n",
    "'''\n",
    "# recall_memory is showing the Hamming distance of each pattern to an updated rule\n",
    "'''\n",
    "\n",
    "def recall_memory(v, x):\n",
    "    N = v.shape[-1]\n",
    "    o = -1 * x\n",
    "    k = []\n",
    "    j = []\n",
    "    if len(v.shape) > 1:\n",
    "        for idx, t in enumerate(v):\n",
    "            d = Hamming(x, t)\n",
    "            if d == N:\n",
    "                if (o == t).all():\n",
    "                    d = Hamming(o, t)\n",
    "            k.append(d)\n",
    "            j.append((d, idx))\n",
    "        m = min(k)\n",
    "        q = [index for (ham, index) in j if ham == m][0]\n",
    "    else:\n",
    "        d = Hamming(x, v)\n",
    "        if d == N:\n",
    "            if (o == v).all():\n",
    "                d = Hamming(o, v)\n",
    "        m = d\n",
    "        q = 0\n",
    "    a = 'at index '\n",
    "    s = '{}{}'.format(a, q)\n",
    "    return m, s\n",
    "\n",
    "\n",
    "\n",
    "\n",
    "def Perturbed_memory(v, p):    \n",
    "    len_v = v.shape[0] if len(v.shape) > 1 else 1\n",
    "    k = np.random.randint(len_v)\n",
    "    Y = Perturb(v, p=p) \n",
    "    x = Y[k:k+1, :] if len_v > 1 else Y\n",
    "    v_k = v[k:k+1, :] if len_v > 1 else v\n",
    "    err = np.count_nonzero(x != v_k)\n",
    "    x_orig = x.copy()\n",
    "    return np.squeeze(x_orig)\n",
    "\n",
    "\n",
    "\n",
    "'''\n",
    "# Fliping the values in x\n",
    "'''\n",
    "def flip(x):\n",
    "    return -1 * x\n",
    "\n",
    "def flipn(x,n):\n",
    "    x[n] = -x[n]\n",
    "    return x\n",
    "\n",
    "\n",
    "\n",
    "'''\n",
    "# A function to calculate the Energy\n",
    "'''\n",
    "# def HopfieldEnergy(W, x):\n",
    "#     if x.ndim == 1:\n",
    "#         x = x.reshape(1, -1) # reshape x to a 2D array with a single row\n",
    "#     num_patterns = x.shape[0]\n",
    "#     E = -0.5 * np.einsum('ij,ij->i', np.dot(x, W), x)\n",
    "#     return E\n",
    "\n",
    "\n",
    "# def Energy(W, x):\n",
    "#     if x.ndim == 1:\n",
    "#         x = x.reshape(1, -1) # reshape x to a 2D array with a single row\n",
    "#     E = -0.5 * np.dot(x, np.dot(W, x.T))\n",
    "#     # if E.size > 1:\n",
    "#     #     raise ValueError(\"Energy calculation resulted in an array with more than one item.\")\n",
    "#     if len(E) > 1:\n",
    "#         E\n",
    "#     else:\n",
    "#         E = E.item()\n",
    "#     return E\n",
    "\n",
    "def Energy(w, x):\n",
    "    return -0.5 * np.dot(np.dot(x, w), x)\n",
    "\n",
    "\n",
    "def new_Energy(v, x, a=2):\n",
    "    return -np.sum(np.dot(v, x) ** a)\n",
    "\n",
    "\n",
    "\n",
    "'''\n",
    "Checking posible Capacity of the Network\n",
    "'''\n",
    "def capacity(v):\n",
    "    n = v.shape[1] if len(v.shape) > 1 else v.shape[0]\n",
    "    return n / (2 * math.log(n, 2))\n",
    "\n",
    "def checkarr(arr):\n",
    "    return np.isclose(arr, arr[0]).all()\n",
    "\n",
    "\n"
   ]
  },
  {
   "cell_type": "code",
   "execution_count": 3,
   "id": "941ddf57-b189-4e9c-ba09-92b49660a941",
   "metadata": {
    "tags": []
   },
   "outputs": [
    {
     "name": "stdout",
     "output_type": "stream",
     "text": [
      "v:\n",
      " [[ 1.  1. -1. -1. -1. -1.  1.]\n",
      " [-1. -1.  1.  1.  1. -1. -1.]\n",
      " [ 1. -1.  1.  1. -1.  1. -1.]] \n",
      " x:\n",
      " [ 1.  1.  1. -1. -1.  1.  1.]\n"
     ]
    }
   ],
   "source": [
    "N = 7\n",
    "p = 3\n",
    "\n",
    "v = RandomNet(N,p)\n",
    "x = RandomNet(N)\n",
    "\n",
    "n = 2\n",
    "\n",
    "print('v:\\n',v,'\\n','x:\\n',x)"
   ]
  },
  {
   "cell_type": "code",
   "execution_count": 4,
   "id": "7e8254d1-392b-4d77-a0f0-0ee084d03d16",
   "metadata": {},
   "outputs": [
    {
     "name": "stdout",
     "output_type": "stream",
     "text": [
      "weight: [[ 0.          0.14285714 -0.14285714 -0.14285714 -0.42857143  0.14285714\n",
      "   0.14285714]\n",
      " [ 0.14285714  0.         -0.42857143 -0.42857143 -0.14285714 -0.14285714\n",
      "   0.42857143]\n",
      " [-0.14285714 -0.42857143  0.          0.42857143  0.14285714  0.14285714\n",
      "  -0.42857143]\n",
      " [-0.14285714 -0.42857143  0.42857143  0.          0.14285714  0.14285714\n",
      "  -0.42857143]\n",
      " [-0.42857143 -0.14285714  0.14285714  0.14285714  0.         -0.14285714\n",
      "  -0.14285714]\n",
      " [ 0.14285714 -0.14285714  0.14285714  0.14285714 -0.14285714  0.\n",
      "  -0.14285714]\n",
      " [ 0.14285714  0.42857143 -0.42857143 -0.42857143 -0.14285714 -0.14285714\n",
      "   0.        ]] \n",
      " \n",
      " Energy: -0.9999999999999998 \n",
      " \n",
      " new_Energy: -35.0 \n",
      " \n",
      " capacity: 1.2467251548780776 \n",
      " \n",
      " recall_memory: (2, 'at index 0') \n",
      " \n",
      " add_percentage_noise: [ 1.  1.  1. -1. -1. -1.  1.] \n",
      " \n",
      "\n"
     ]
    },
    {
     "data": {
      "text/plain": [
       "-35.0"
      ]
     },
     "execution_count": 4,
     "metadata": {},
     "output_type": "execute_result"
    }
   ],
   "source": [
    "W = weight(v)\n",
    "\n",
    "print('weight:',W,'\\n \\n',\n",
    "      'Energy:',Energy(W, x),'\\n \\n',\n",
    "      'new_Energy:',new_Energy(v, x, n),'\\n \\n',\n",
    "      'capacity:',capacity(v),'\\n \\n',\n",
    "      'recall_memory:',recall_memory(v,x),'\\n \\n',\n",
    "      'add_percentage_noise:',add_percentage_noise(x, 0.2),'\\n \\n')\n",
    "\n",
    "new_Energy(v, x, n)"
   ]
  },
  {
   "cell_type": "code",
   "execution_count": null,
   "id": "0a4316e8-3fef-48e0-8fdf-a1bd979657b0",
   "metadata": {},
   "outputs": [],
   "source": []
  },
  {
   "cell_type": "markdown",
   "id": "6cfd5d3a-cd3f-435f-8c00-515f811d632f",
   "metadata": {},
   "source": [
    "### Working"
   ]
  },
  {
   "cell_type": "code",
   "execution_count": 5,
   "id": "8c933f6a-e701-43f9-a52a-e185624fe3a7",
   "metadata": {},
   "outputs": [],
   "source": [
    "def in_stateW(weights, inputs, threshold=0):\n",
    "    n = inputs.shape[0]\n",
    "    updated_state = inputs.copy()\n",
    "    for i in np.random.permutation(n):\n",
    "        net_input = np.dot(weights[i], updated_state)\n",
    "        updated_state[i] = 1 if net_input > threshold else -1\n",
    "    return updated_state"
   ]
  },
  {
   "cell_type": "code",
   "execution_count": 6,
   "id": "9d3863b7-3df5-49e2-b39f-0bd8f4208759",
   "metadata": {},
   "outputs": [],
   "source": [
    "def in_state_flipE(vin, inputs, g=2):  \n",
    "    updated_state = inputs.copy()\n",
    "    n = inputs.shape[0]\n",
    "    new_v = vin.copy()\n",
    "    for i in np.random.permutation(n): \n",
    "        in_state = updated_state.copy()\n",
    "        E1 = new_Energy(new_v, in_state, g)\n",
    "        x_new = flipn(in_state, i) \n",
    "        E2 = new_Energy(new_v, x_new, g)\n",
    "        updated_state, E = (x_new, E2) if E2 < E1 else (updated_state, E1)    \n",
    "    return updated_state"
   ]
  },
  {
   "cell_type": "code",
   "execution_count": 7,
   "id": "0491a220-a4ff-4980-9277-a5eb95dc9cc3",
   "metadata": {},
   "outputs": [],
   "source": [
    "def steady_stateW(vins,xins):\n",
    "    N = xins.shape[0]\n",
    "    M = weight(vins)\n",
    "    x_new_list = np.empty((0,N), int)\n",
    "    n = 0 # Iterations or umber of updates\n",
    "    for f in range(100):\n",
    "        n += 1 \n",
    "        x_new = in_stateW(M, xins)\n",
    "        \n",
    "        x_new_list = np.squeeze(np.vstack([x_new_list, x_new]))\n",
    "        \n",
    "        # print('x_new_list \\n',x_new_list)\n",
    "        \n",
    "        if x_new_list.ndim > 1 and checkarr(np.asarray(x_new_list[-2:])):\n",
    "            break\n",
    "            \n",
    "#         if x_new_list.ndim > 1 and  x_new_list.shape[0] > 2:\n",
    "#             print('yes')\n",
    "#             x0 = np.asarray(x_new_list[-2:])\n",
    "#             print(x0)\n",
    "#             h = [Hamming(x0[-2:], x0[-2:])]\n",
    "#             print(0)\n",
    "#             if checkarr(x0):\n",
    "#                 print(checkarr(x0))\n",
    "#                 break\n",
    "            \n",
    "        # print('Hamming: ',x0[-2],x0[-1],h)\n",
    "        # if h == 0:\n",
    "        #     break\n",
    "            \n",
    "        # if vins.ndim > 1:\n",
    "        #     h = [Hamming(x_new,i) for i in vins]\n",
    "        #     if h == 0:\n",
    "        #         print(\"break\")\n",
    "        #         break\n",
    "    itr = n - 1 if n > 1 else n  \n",
    "    dicti = {\"Input\": xins,\"Neurons\": N,\"Iterations\": n,\"x_new\": x_new_list,\"last_x_new\": x_new}\n",
    "    u = recall_memory(v, x_new)\n",
    "    p_Neuron = round((u[0] / N) * 100)\n",
    "    Neuron_index = u[1]\n",
    "    return N, dicti, u, p_Neuron, Neuron_index,itr\n"
   ]
  },
  {
   "cell_type": "code",
   "execution_count": 8,
   "id": "cf6d65e4-8ddd-46f7-a140-6c47611cd707",
   "metadata": {},
   "outputs": [],
   "source": [
    "def steady_state_flipE(vins,xins,g):\n",
    "    k = np.random.randint(len(vins))\n",
    "    vr = vins[k:k + 1].copy() if vins.ndim > 1 else vins.copy\n",
    "    N = xins.shape[0]\n",
    "    \n",
    "    x_new_list = np.empty((0,N), int)\n",
    "    n = 0 # Iterations or umber of updates\n",
    "    for f in range(100):\n",
    "        n += 1 \n",
    "        x_new = in_state_flipE(vins, xins, g)\n",
    "        \n",
    "        x_new_list = np.squeeze(np.vstack([x_new_list, x_new]))\n",
    "        \n",
    "        if x_new_list.ndim > 1 and checkarr(np.asarray(x_new_list[-2:])):\n",
    "            break\n",
    "    itr = n - 1 if n > 1 else n\n",
    "            \n",
    "    dicti = {\"Input\": xins,\"Neurons\": N,\"Iterations\": n,\"x_new\": x_new_list,\"last_x_new\": x_new}\n",
    "    u = recall_memory(v, x_new)\n",
    "    p_Neuron = round((u[0] / N) * 100)\n",
    "    Neuron_index = u[1]\n",
    "    return N, dicti, u, p_Neuron, Neuron_index,itr\n"
   ]
  },
  {
   "cell_type": "code",
   "execution_count": 9,
   "id": "72d72828-725c-4c07-8cd6-0cb68bb14955",
   "metadata": {
    "tags": []
   },
   "outputs": [
    {
     "name": "stdout",
     "output_type": "stream",
     "text": [
      "v:\n",
      " [[-1. -1. -1.  1. -1.  1.  1.]\n",
      " [-1.  1. -1. -1.  1. -1.  1.]\n",
      " [-1.  1. -1. -1. -1. -1.  1.]] \n",
      " x:\n",
      " [ 1.  1.  1.  1. -1. -1. -1.]\n"
     ]
    }
   ],
   "source": [
    "N = 7\n",
    "p = 3\n",
    "\n",
    "v = RandomNet(N,p)\n",
    "x = RandomNet(N)\n",
    "\n",
    "\n",
    "print('v:\\n',v,'\\n','x:\\n',x)"
   ]
  },
  {
   "cell_type": "code",
   "execution_count": 10,
   "id": "55c81b2c-745d-4ba6-99a1-bb2b7b4bb4c6",
   "metadata": {},
   "outputs": [
    {
     "data": {
      "text/plain": [
       "(7,\n",
       " {'Input': array([ 1.,  1.,  1.,  1., -1., -1., -1.]),\n",
       "  'Neurons': 7,\n",
       "  'Iterations': 2,\n",
       "  'x_new': array([[ 1., -1.,  1.,  1.,  1.,  1., -1.],\n",
       "         [ 1., -1.,  1.,  1.,  1.,  1., -1.]]),\n",
       "  'last_x_new': array([ 1., -1.,  1.,  1.,  1.,  1., -1.])},\n",
       " (0, 'at index 2'),\n",
       " 0,\n",
       " 'at index 2',\n",
       " 1)"
      ]
     },
     "execution_count": 10,
     "metadata": {},
     "output_type": "execute_result"
    }
   ],
   "source": [
    "steady_stateW(v,x)"
   ]
  },
  {
   "cell_type": "code",
   "execution_count": 11,
   "id": "d591011f-7a75-4a17-8df2-5fe82b239d2a",
   "metadata": {},
   "outputs": [
    {
     "data": {
      "text/plain": [
       "(7,\n",
       " {'Input': array([ 1.,  1.,  1.,  1., -1., -1., -1.]),\n",
       "  'Neurons': 7,\n",
       "  'Iterations': 3,\n",
       "  'x_new': array([[ 1.,  1.,  1., -1.,  1., -1., -1.],\n",
       "         [ 1., -1.,  1.,  1.,  1.,  1., -1.],\n",
       "         [ 1., -1.,  1.,  1.,  1.,  1., -1.]]),\n",
       "  'last_x_new': array([ 1., -1.,  1.,  1.,  1.,  1., -1.])},\n",
       " (0, 'at index 2'),\n",
       " 0,\n",
       " 'at index 2',\n",
       " 2)"
      ]
     },
     "execution_count": 11,
     "metadata": {},
     "output_type": "execute_result"
    }
   ],
   "source": [
    "steady_state_flipE(v,x,2)"
   ]
  },
  {
   "cell_type": "code",
   "execution_count": 12,
   "id": "16b56762-a29f-40c3-9e5e-59f66a9ce9e4",
   "metadata": {},
   "outputs": [
    {
     "data": {
      "text/plain": [
       "(7,\n",
       " {'Input': array([ 1.,  1.,  1.,  1., -1., -1., -1.]),\n",
       "  'Neurons': 7,\n",
       "  'Iterations': 3,\n",
       "  'x_new': array([[ 1., -1.,  1.,  1., -1.,  1., -1.],\n",
       "         [ 1.,  1.,  1., -1.,  1., -1., -1.],\n",
       "         [ 1.,  1.,  1., -1.,  1., -1., -1.]]),\n",
       "  'last_x_new': array([ 1.,  1.,  1., -1.,  1., -1., -1.])},\n",
       " (0, 'at index 0'),\n",
       " 0,\n",
       " 'at index 0',\n",
       " 2)"
      ]
     },
     "execution_count": 12,
     "metadata": {},
     "output_type": "execute_result"
    }
   ],
   "source": [
    "steady_state_flipE(v,x,4)"
   ]
  },
  {
   "cell_type": "code",
   "execution_count": null,
   "id": "3875851b-c3dc-4fae-9a5e-5413fea09b6c",
   "metadata": {},
   "outputs": [],
   "source": []
  },
  {
   "cell_type": "code",
   "execution_count": null,
   "id": "ad47ba03-3c49-4446-ad08-5c3b096eefc1",
   "metadata": {},
   "outputs": [],
   "source": []
  },
  {
   "cell_type": "markdown",
   "id": "624fdefa-550c-48d5-b82a-6884d8f36a47",
   "metadata": {},
   "source": [
    "## Capacity"
   ]
  },
  {
   "cell_type": "code",
   "execution_count": 13,
   "id": "b2c316c3-d9ad-480c-bef7-3647c2f313f1",
   "metadata": {},
   "outputs": [],
   "source": [
    "\n",
    "g = prime_generator(100)       # give firt 1000 prime numbers\n",
    "a = list(g)\n",
    "# print(a)\n",
    "q = Prime_range(98,102)\n",
    "b = list(q)"
   ]
  },
  {
   "cell_type": "raw",
   "id": "53eb59b1-0b06-4c1c-b1f0-c83f02a87e49",
   "metadata": {},
   "source": [
    "v = RandomNet(i,j)\n",
    "x = RandomNet(n)"
   ]
  },
  {
   "cell_type": "code",
   "execution_count": 14,
   "id": "468737ea-7ae6-4cd2-8502-c00ec4dd8688",
   "metadata": {},
   "outputs": [
    {
     "name": "stderr",
     "output_type": "stream",
     "text": [
      "100%|██████████| 24/24 [00:17<00:00,  1.36it/s]"
     ]
    },
    {
     "name": "stdout",
     "output_type": "stream",
     "text": [
      "\n",
      " \n",
      " Duration: 0:00:17.609481\n"
     ]
    },
    {
     "name": "stderr",
     "output_type": "stream",
     "text": [
      "\n"
     ]
    }
   ],
   "source": [
    "# start_time = time.time()\n",
    "start_times = datetime.now()\n",
    "\n",
    "for i in b:\n",
    "    result = []\n",
    "    for j in tqdm.tqdm(a):\n",
    "        # neuron = []\n",
    "        error = []\n",
    "        iterations = []\n",
    "        for nn in range(105):\n",
    "            v = RandomNet(i,j)\n",
    "            k = np.random.randint(len(v))\n",
    "            vr = v[k]\n",
    "            y =  steady_stateW(v,vr)\n",
    "            # neuron.append(y[1])\n",
    "            # print(y[0],y[3],y[5])\n",
    "            error.append(y[3])\n",
    "            iterations.append(y[5])\n",
    "        errors = round(st.mean(error),2)\n",
    "        iterationss = round(st.mean(iterations))\n",
    "        rr = (y[0],errors,j,iterationss)\n",
    "        result.append(rr)\n",
    "        \n",
    "end_times = datetime.now()\n",
    "print('\\n \\n Duration: {}'.format(end_times - start_times))\n",
    "        \n",
    "    \n",
    "df1 = pd.DataFrame(\n",
    "    result, columns=['Neurons', '% Error', 'number of patterns', 'iterations'], dtype=float)\n",
    "\n",
    "df1.to_csv(\"C:/Users/scrwh/Documents/rmarkdown/hopfield_Network/data/'Weight-Based_Simulation_data.csv\",index = False) \n"
   ]
  },
  {
   "cell_type": "code",
   "execution_count": 15,
   "id": "a4a5283b-3639-4db7-a5fb-61801c9be366",
   "metadata": {},
   "outputs": [
    {
     "data": {
      "text/html": [
       "<div>\n",
       "<style scoped>\n",
       "    .dataframe tbody tr th:only-of-type {\n",
       "        vertical-align: middle;\n",
       "    }\n",
       "\n",
       "    .dataframe tbody tr th {\n",
       "        vertical-align: top;\n",
       "    }\n",
       "\n",
       "    .dataframe thead th {\n",
       "        text-align: right;\n",
       "    }\n",
       "</style>\n",
       "<table border=\"1\" class=\"dataframe\">\n",
       "  <thead>\n",
       "    <tr style=\"text-align: right;\">\n",
       "      <th></th>\n",
       "      <th>Neurons</th>\n",
       "      <th>% Error</th>\n",
       "      <th>number of patterns</th>\n",
       "      <th>iterations</th>\n",
       "    </tr>\n",
       "  </thead>\n",
       "  <tbody>\n",
       "    <tr>\n",
       "      <th>0</th>\n",
       "      <td>101.0</td>\n",
       "      <td>0.00</td>\n",
       "      <td>3.0</td>\n",
       "      <td>1.0</td>\n",
       "    </tr>\n",
       "    <tr>\n",
       "      <th>1</th>\n",
       "      <td>101.0</td>\n",
       "      <td>0.00</td>\n",
       "      <td>5.0</td>\n",
       "      <td>1.0</td>\n",
       "    </tr>\n",
       "    <tr>\n",
       "      <th>2</th>\n",
       "      <td>101.0</td>\n",
       "      <td>0.00</td>\n",
       "      <td>7.0</td>\n",
       "      <td>1.0</td>\n",
       "    </tr>\n",
       "    <tr>\n",
       "      <th>3</th>\n",
       "      <td>101.0</td>\n",
       "      <td>0.06</td>\n",
       "      <td>11.0</td>\n",
       "      <td>1.0</td>\n",
       "    </tr>\n",
       "    <tr>\n",
       "      <th>4</th>\n",
       "      <td>101.0</td>\n",
       "      <td>0.34</td>\n",
       "      <td>13.0</td>\n",
       "      <td>1.0</td>\n",
       "    </tr>\n",
       "    <tr>\n",
       "      <th>22</th>\n",
       "      <td>101.0</td>\n",
       "      <td>18.50</td>\n",
       "      <td>89.0</td>\n",
       "      <td>99.0</td>\n",
       "    </tr>\n",
       "    <tr>\n",
       "      <th>23</th>\n",
       "      <td>101.0</td>\n",
       "      <td>18.39</td>\n",
       "      <td>97.0</td>\n",
       "      <td>99.0</td>\n",
       "    </tr>\n",
       "  </tbody>\n",
       "</table>\n",
       "</div>"
      ],
      "text/plain": [
       "    Neurons  % Error  number of patterns  iterations\n",
       "0     101.0     0.00                 3.0         1.0\n",
       "1     101.0     0.00                 5.0         1.0\n",
       "2     101.0     0.00                 7.0         1.0\n",
       "3     101.0     0.06                11.0         1.0\n",
       "4     101.0     0.34                13.0         1.0\n",
       "22    101.0    18.50                89.0        99.0\n",
       "23    101.0    18.39                97.0        99.0"
      ]
     },
     "execution_count": 15,
     "metadata": {},
     "output_type": "execute_result"
    }
   ],
   "source": [
    "pd.concat([df1.head(5), df1.tail(2)])"
   ]
  },
  {
   "cell_type": "code",
   "execution_count": 16,
   "id": "9df04898-0466-4577-a6b2-f6830cb7145c",
   "metadata": {},
   "outputs": [
    {
     "data": {
      "image/png": "[encoded data removed]",
      "text/plain": [
       "<Figure size 640x480 with 1 Axes>"
      ]
     },
     "metadata": {},
     "output_type": "display_data"
    }
   ],
   "source": [
    "\n",
    "data1 = df1\n",
    "# data1 = pd.read_csv('data/steady_statez_flip_new_P4_5000_10.csv')\n",
    "first_error = data1.loc[data1['% Error'] > 0]\n",
    "first_error.columns = ['Neurons', '% Error', 'patterns', 'iterations']\n",
    "ndf = first_error.iloc[[0, -1]]\n",
    "point = ndf.iloc[0]\n",
    "ndf.reset_index(drop=True, inplace=True)\n",
    "\n",
    "s = '{}{}{}'.format('Network of ', round(data1.iloc[0]['Neurons']), ' Neuron with incresing Pattern Using the Weight Testing Rule')\n",
    "\n",
    "plt.plot(data1['number of patterns'],data1['% Error'])\n",
    "plt.plot(data1['number of patterns'],data1['% Error'],'o')  \n",
    "plt.plot(point['patterns'],point['% Error'], marker='*', ls='none', ms=8)\n",
    "plt.annotate(str(round(point['patterns'])), xy=(point['patterns'],point['% Error']))\n",
    "plt.title(s)\n",
    "plt.ylabel('% Error')\n",
    "plt.xlabel('Patterns')\n",
    "\n",
    "# ax.text(point['number of patterns'],point['% Error'],point['% Error'], size=8)\n",
    "# plt.show()\n",
    "plt.savefig(\"C:/Users/scrwh/Documents/rmarkdown/hopfield_Network/data/Weight-Based_Simulation_image.png\",dpi=1000,\n",
    "pad_inches = 0,bbox_inches='tight', transparent = False)\n",
    "\n",
    "\n",
    "\n",
    "del result, df1, data1, error, iterations"
   ]
  },
  {
   "cell_type": "code",
   "execution_count": 17,
   "id": "ac4e656b-bd79-4bd1-9b63-90f4da7de787",
   "metadata": {},
   "outputs": [
    {
     "name": "stderr",
     "output_type": "stream",
     "text": [
      "100%|██████████| 24/24 [05:45<00:00, 14.39s/it]"
     ]
    },
    {
     "name": "stdout",
     "output_type": "stream",
     "text": [
      "\n",
      " \n",
      " Duration: 0:05:45.336992\n"
     ]
    },
    {
     "name": "stderr",
     "output_type": "stream",
     "text": [
      "\n"
     ]
    }
   ],
   "source": [
    "# start_time = time.time()\n",
    "start_times = datetime.now()\n",
    "\n",
    "for i in b:\n",
    "    result = []\n",
    "    for j in tqdm.tqdm(a):\n",
    "        # neuron = []\n",
    "        error = []\n",
    "        iterations = []\n",
    "        for nn in range(105):\n",
    "            v = RandomNet(i,j)\n",
    "            k = np.random.randint(len(v))\n",
    "            vr = v[k]\n",
    "            y =  steady_state_flipE(v,vr,2)\n",
    "            # neuron.append(y[1])\n",
    "            # print(y[0],y[3],y[5])\n",
    "            error.append(y[3])\n",
    "            iterations.append(y[5])\n",
    "        errors = round(st.mean(error),2)\n",
    "        iterationss = round(st.mean(iterations),2)\n",
    "        rr = (y[0],errors,j,iterationss)\n",
    "        result.append(rr)\n",
    "        \n",
    "end_times = datetime.now()\n",
    "print('\\n \\n Duration: {}'.format(end_times - start_times))\n",
    "        \n",
    "    \n",
    "df2 = pd.DataFrame(\n",
    "    result, columns=['Neurons', '% Error', 'number of patterns', 'iterations'], dtype=float)\n",
    "\n",
    "df2.to_csv(\"C:/Users/scrwh/Documents/rmarkdown/hopfield_Network/data/'Energy-Based_E2_Simulation_data_P100.csv\",index = False) \n",
    "\n"
   ]
  },
  {
   "cell_type": "code",
   "execution_count": 18,
   "id": "019b3ef2-c3e8-4fea-8c84-1f965f4986ed",
   "metadata": {},
   "outputs": [
    {
     "data": {
      "text/html": [
       "<div>\n",
       "<style scoped>\n",
       "    .dataframe tbody tr th:only-of-type {\n",
       "        vertical-align: middle;\n",
       "    }\n",
       "\n",
       "    .dataframe tbody tr th {\n",
       "        vertical-align: top;\n",
       "    }\n",
       "\n",
       "    .dataframe thead th {\n",
       "        text-align: right;\n",
       "    }\n",
       "</style>\n",
       "<table border=\"1\" class=\"dataframe\">\n",
       "  <thead>\n",
       "    <tr style=\"text-align: right;\">\n",
       "      <th></th>\n",
       "      <th>Neurons</th>\n",
       "      <th>% Error</th>\n",
       "      <th>number of patterns</th>\n",
       "      <th>iterations</th>\n",
       "    </tr>\n",
       "  </thead>\n",
       "  <tbody>\n",
       "    <tr>\n",
       "      <th>0</th>\n",
       "      <td>101.0</td>\n",
       "      <td>0.00</td>\n",
       "      <td>3.0</td>\n",
       "      <td>1.00</td>\n",
       "    </tr>\n",
       "    <tr>\n",
       "      <th>1</th>\n",
       "      <td>101.0</td>\n",
       "      <td>0.00</td>\n",
       "      <td>5.0</td>\n",
       "      <td>1.00</td>\n",
       "    </tr>\n",
       "    <tr>\n",
       "      <th>2</th>\n",
       "      <td>101.0</td>\n",
       "      <td>0.00</td>\n",
       "      <td>7.0</td>\n",
       "      <td>1.00</td>\n",
       "    </tr>\n",
       "    <tr>\n",
       "      <th>3</th>\n",
       "      <td>101.0</td>\n",
       "      <td>0.04</td>\n",
       "      <td>11.0</td>\n",
       "      <td>1.00</td>\n",
       "    </tr>\n",
       "    <tr>\n",
       "      <th>4</th>\n",
       "      <td>101.0</td>\n",
       "      <td>0.26</td>\n",
       "      <td>13.0</td>\n",
       "      <td>1.17</td>\n",
       "    </tr>\n",
       "    <tr>\n",
       "      <th>22</th>\n",
       "      <td>101.0</td>\n",
       "      <td>18.44</td>\n",
       "      <td>89.0</td>\n",
       "      <td>99.00</td>\n",
       "    </tr>\n",
       "    <tr>\n",
       "      <th>23</th>\n",
       "      <td>101.0</td>\n",
       "      <td>18.96</td>\n",
       "      <td>97.0</td>\n",
       "      <td>98.71</td>\n",
       "    </tr>\n",
       "  </tbody>\n",
       "</table>\n",
       "</div>"
      ],
      "text/plain": [
       "    Neurons  % Error  number of patterns  iterations\n",
       "0     101.0     0.00                 3.0        1.00\n",
       "1     101.0     0.00                 5.0        1.00\n",
       "2     101.0     0.00                 7.0        1.00\n",
       "3     101.0     0.04                11.0        1.00\n",
       "4     101.0     0.26                13.0        1.17\n",
       "22    101.0    18.44                89.0       99.00\n",
       "23    101.0    18.96                97.0       98.71"
      ]
     },
     "execution_count": 18,
     "metadata": {},
     "output_type": "execute_result"
    }
   ],
   "source": [
    "pd.concat([df2.head(5), df2.tail(2)])"
   ]
  },
  {
   "cell_type": "code",
   "execution_count": 19,
   "id": "0bf8c919-4645-4f43-8d23-92d34fd94b2c",
   "metadata": {},
   "outputs": [
    {
     "data": {
      "image/png": "[encoded data removed]",
      "text/plain": [
       "<Figure size 640x480 with 1 Axes>"
      ]
     },
     "metadata": {},
     "output_type": "display_data"
    }
   ],
   "source": [
    "\n",
    "data2 = df2\n",
    "# data1 = pd.read_csv('data/steady_statez_flip_new_P4_5000_10.csv')\n",
    "first_error = data2.loc[data2['% Error'] > 0]\n",
    "first_error.columns = ['Neurons', '% Error', 'patterns', 'iterations']\n",
    "ndf = first_error.iloc[[0, -1]]\n",
    "point = ndf.iloc[0]\n",
    "ndf.reset_index(drop=True, inplace=True)\n",
    "\n",
    "s = '{}{}{}'.format('Network of ', round(data2.iloc[0]['Neurons']), ' Neuron with incresing Pattern Using the Weight Testing Rule')\n",
    "\n",
    "plt.plot(data2['number of patterns'],data2['% Error'])\n",
    "plt.plot(data2['number of patterns'],data2['% Error'],'o')  \n",
    "plt.plot(point['patterns'],point['% Error'], marker='*', ls='none', ms=8)\n",
    "plt.annotate(str(round(point['patterns'])), xy=(point['patterns'],point['% Error']))\n",
    "plt.title(s)\n",
    "plt.ylabel('% Error')\n",
    "plt.xlabel('Patterns')\n",
    "\n",
    "# ax.text(point['number of patterns'],point['% Error'],point['% Error'], size=8)\n",
    "# plt.show()\n",
    "plt.savefig(\"C:/Users/scrwh/Documents/rmarkdown/hopfield_Network/data/Energy-Based_E2_Simulation_image_P100.png\",dpi=1000,\n",
    "pad_inches = 0,bbox_inches='tight', transparent = False)\n",
    "\n",
    "\n",
    "del result, df2, data2, error, iterations, first_error, ndf, point"
   ]
  },
  {
   "cell_type": "code",
   "execution_count": 20,
   "id": "477fb84b-4fd5-4c80-bd9b-490bd967a819",
   "metadata": {},
   "outputs": [
    {
     "name": "stderr",
     "output_type": "stream",
     "text": [
      "100%|██████████| 24/24 [00:10<00:00,  2.31it/s]"
     ]
    },
    {
     "name": "stdout",
     "output_type": "stream",
     "text": [
      "\n",
      " \n",
      " Duration: 0:00:10.406794\n"
     ]
    },
    {
     "name": "stderr",
     "output_type": "stream",
     "text": [
      "\n"
     ]
    }
   ],
   "source": [
    "# start_time = time.time()\n",
    "start_times = datetime.now()\n",
    "\n",
    "for i in b:\n",
    "    result = []\n",
    "    for j in tqdm.tqdm(a):\n",
    "        # neuron = []\n",
    "        error = []\n",
    "        iterations = []\n",
    "        for nn in range(105):\n",
    "            v = RandomNet(i,j)\n",
    "            k = np.random.randint(len(v))\n",
    "            vr = v[k]\n",
    "            y =  steady_state_flipE(v,vr,4)\n",
    "            # neuron.append(y[1])\n",
    "            # print(y[0],y[3],y[5])\n",
    "            error.append(y[3])\n",
    "            iterations.append(y[5])\n",
    "        errors = round(st.mean(error),2)\n",
    "        iterationss = round(st.mean(iterations),2)\n",
    "        rr = (y[0],errors,j,iterationss)\n",
    "        result.append(rr)\n",
    "\n",
    "end_times = datetime.now()\n",
    "print('\\n \\n Duration: {}'.format(end_times - start_times))\n",
    "        \n",
    "    \n",
    "df3 = pd.DataFrame(\n",
    "    result, columns=['Neurons', '% Error', 'number of patterns', 'iterations'], dtype=float)\n",
    "\n",
    "df3.to_csv(\"C:/Users/scrwh/Documents/rmarkdown/hopfield_Network/data/'Energy-Based_E4_Simulation_data_P100.csv\",index = False) \n",
    "\n"
   ]
  },
  {
   "cell_type": "code",
   "execution_count": 21,
   "id": "e8eec2cb-9e97-4e61-b0a6-0352f1413ba8",
   "metadata": {},
   "outputs": [
    {
     "data": {
      "text/html": [
       "<div>\n",
       "<style scoped>\n",
       "    .dataframe tbody tr th:only-of-type {\n",
       "        vertical-align: middle;\n",
       "    }\n",
       "\n",
       "    .dataframe tbody tr th {\n",
       "        vertical-align: top;\n",
       "    }\n",
       "\n",
       "    .dataframe thead th {\n",
       "        text-align: right;\n",
       "    }\n",
       "</style>\n",
       "<table border=\"1\" class=\"dataframe\">\n",
       "  <thead>\n",
       "    <tr style=\"text-align: right;\">\n",
       "      <th></th>\n",
       "      <th>Neurons</th>\n",
       "      <th>% Error</th>\n",
       "      <th>number of patterns</th>\n",
       "      <th>iterations</th>\n",
       "    </tr>\n",
       "  </thead>\n",
       "  <tbody>\n",
       "    <tr>\n",
       "      <th>0</th>\n",
       "      <td>101.0</td>\n",
       "      <td>0.0</td>\n",
       "      <td>3.0</td>\n",
       "      <td>1.0</td>\n",
       "    </tr>\n",
       "    <tr>\n",
       "      <th>1</th>\n",
       "      <td>101.0</td>\n",
       "      <td>0.0</td>\n",
       "      <td>5.0</td>\n",
       "      <td>1.0</td>\n",
       "    </tr>\n",
       "    <tr>\n",
       "      <th>2</th>\n",
       "      <td>101.0</td>\n",
       "      <td>0.0</td>\n",
       "      <td>7.0</td>\n",
       "      <td>1.0</td>\n",
       "    </tr>\n",
       "    <tr>\n",
       "      <th>3</th>\n",
       "      <td>101.0</td>\n",
       "      <td>0.0</td>\n",
       "      <td>11.0</td>\n",
       "      <td>1.0</td>\n",
       "    </tr>\n",
       "    <tr>\n",
       "      <th>4</th>\n",
       "      <td>101.0</td>\n",
       "      <td>0.0</td>\n",
       "      <td>13.0</td>\n",
       "      <td>1.0</td>\n",
       "    </tr>\n",
       "    <tr>\n",
       "      <th>22</th>\n",
       "      <td>101.0</td>\n",
       "      <td>0.0</td>\n",
       "      <td>89.0</td>\n",
       "      <td>1.0</td>\n",
       "    </tr>\n",
       "    <tr>\n",
       "      <th>23</th>\n",
       "      <td>101.0</td>\n",
       "      <td>0.0</td>\n",
       "      <td>97.0</td>\n",
       "      <td>1.0</td>\n",
       "    </tr>\n",
       "  </tbody>\n",
       "</table>\n",
       "</div>"
      ],
      "text/plain": [
       "    Neurons  % Error  number of patterns  iterations\n",
       "0     101.0      0.0                 3.0         1.0\n",
       "1     101.0      0.0                 5.0         1.0\n",
       "2     101.0      0.0                 7.0         1.0\n",
       "3     101.0      0.0                11.0         1.0\n",
       "4     101.0      0.0                13.0         1.0\n",
       "22    101.0      0.0                89.0         1.0\n",
       "23    101.0      0.0                97.0         1.0"
      ]
     },
     "execution_count": 21,
     "metadata": {},
     "output_type": "execute_result"
    }
   ],
   "source": [
    "pd.concat([df3.head(5), df3.tail(2)])"
   ]
  },
  {
   "cell_type": "code",
   "execution_count": 22,
   "id": "18d88d76-24ad-4f16-85b2-df96f1f0ffd7",
   "metadata": {},
   "outputs": [
    {
     "data": {
      "image/png": "[encoded data removed]",
      "text/plain": [
       "<Figure size 640x480 with 1 Axes>"
      ]
     },
     "metadata": {},
     "output_type": "display_data"
    }
   ],
   "source": [
    "\n",
    "data3 = df3\n",
    "# data1 = pd.read_csv('data/steady_statez_flip_new_P4_5000_10.csv')\n",
    "first_error = data3.loc[data3['% Error'] > 0]\n",
    "first_error.columns = ['Neurons', '% Error', 'patterns', 'iterations']\n",
    "# ndf = first_error.iloc[[0, -1]]\n",
    "# point = ndf.iloc[0]\n",
    "# ndf.reset_index(drop=True, inplace=True)\n",
    "\n",
    "s = '{}{}{}'.format('Network of ', round(data3.iloc[0]['Neurons']), ' Neuron with incresing Pattern Using the Energy Function n = 4 Testing Rule')\n",
    "\n",
    "plt.plot(data3['number of patterns'],data3['% Error'])\n",
    "plt.plot(data3['number of patterns'],data3['% Error'],'o')  \n",
    "# plt.plot(data3['patterns'],point['% Error'], marker='*', ls='none', ms=8)\n",
    "# plt.annotate(str(round(point['patterns'])), xy=(point['patterns'],point['% Error']))\n",
    "plt.title(s)\n",
    "plt.ylabel('% Error')\n",
    "plt.xlabel('Patterns')\n",
    "\n",
    "# ax.text(point['number of patterns'],point['% Error'],point['% Error'], size=8)\n",
    "# plt.show()\n",
    "plt.savefig(\"C:/Users/scrwh/Documents/rmarkdown/hopfield_Network/data/Energy-Based_E4_Simulation_image_P100.png\",dpi=1000,\n",
    "pad_inches = 0,bbox_inches='tight', transparent = False)\n",
    "\n",
    "\n",
    "\n",
    "del result, df3, data3, error, iterations, first_error"
   ]
  },
  {
   "cell_type": "code",
   "execution_count": 24,
   "id": "d02cecee-7dd5-4d48-ad45-df71ea68fba8",
   "metadata": {},
   "outputs": [],
   "source": [
    "\n",
    "g = prime_generator(4000)     # give firt 1000 prime numbers\n",
    "a = list(g)\n",
    "q = Prime_range(100,102)\n",
    "b = list(q)"
   ]
  },
  {
   "cell_type": "code",
   "execution_count": 25,
   "id": "3d14df2a-678b-418e-aa29-72de1b7d795d",
   "metadata": {
    "tags": []
   },
   "outputs": [
    {
     "name": "stderr",
     "output_type": "stream",
     "text": [
      "100%|██████████| 549/549 [05:50<00:00,  1.56it/s]"
     ]
    },
    {
     "name": "stdout",
     "output_type": "stream",
     "text": [
      "\n",
      " \n",
      " Duration: 0:05:50.912224\n"
     ]
    },
    {
     "name": "stderr",
     "output_type": "stream",
     "text": [
      "\n"
     ]
    }
   ],
   "source": [
    "# start_time = time.time()\n",
    "start_times = datetime.now()\n",
    "\n",
    "for i in b:\n",
    "    result = []\n",
    "    for j in tqdm.tqdm(a):\n",
    "        # neuron = []\n",
    "        error = []\n",
    "        iterations = []\n",
    "        for nn in range(10):\n",
    "            v = RandomNet(i,j)\n",
    "            k = np.random.randint(len(v))\n",
    "            vr = v[k]\n",
    "            y =  steady_state_flipE(v,vr,4)\n",
    "            # neuron.append(y[1])\n",
    "            # print(y[0],y[3],y[5])\n",
    "            error.append(y[3])\n",
    "            iterations.append(y[5])\n",
    "        errors = round(st.mean(error),2)\n",
    "        iterationss = round(st.mean(iterations),2)\n",
    "        rr = (y[0],errors,j,iterationss)\n",
    "        result.append(rr)\n",
    "        \n",
    "\n",
    "end_times = datetime.now()\n",
    "print('\\n \\n Duration: {}'.format(end_times - start_times))\n",
    "        \n",
    "    \n",
    "df4 = pd.DataFrame(\n",
    "    result, columns=['Neurons', '% Error', 'number of patterns', 'iterations'], dtype=float)\n",
    "\n",
    "df4.to_csv(\"C:/Users/scrwh/Documents/rmarkdown/hopfield_Network/data/'Energy-Based_E4_Simulation_data_P4000.csv\",index = False) \n",
    "\n"
   ]
  },
  {
   "cell_type": "code",
   "execution_count": 26,
   "id": "1e438ce3-4d15-4cef-8fd7-f92eb1ca903d",
   "metadata": {},
   "outputs": [
    {
     "data": {
      "text/html": [
       "<div>\n",
       "<style scoped>\n",
       "    .dataframe tbody tr th:only-of-type {\n",
       "        vertical-align: middle;\n",
       "    }\n",
       "\n",
       "    .dataframe tbody tr th {\n",
       "        vertical-align: top;\n",
       "    }\n",
       "\n",
       "    .dataframe thead th {\n",
       "        text-align: right;\n",
       "    }\n",
       "</style>\n",
       "<table border=\"1\" class=\"dataframe\">\n",
       "  <thead>\n",
       "    <tr style=\"text-align: right;\">\n",
       "      <th></th>\n",
       "      <th>Neurons</th>\n",
       "      <th>% Error</th>\n",
       "      <th>number of patterns</th>\n",
       "      <th>iterations</th>\n",
       "    </tr>\n",
       "  </thead>\n",
       "  <tbody>\n",
       "    <tr>\n",
       "      <th>0</th>\n",
       "      <td>101.0</td>\n",
       "      <td>0.0</td>\n",
       "      <td>3.0</td>\n",
       "      <td>1.0</td>\n",
       "    </tr>\n",
       "    <tr>\n",
       "      <th>1</th>\n",
       "      <td>101.0</td>\n",
       "      <td>0.0</td>\n",
       "      <td>5.0</td>\n",
       "      <td>1.0</td>\n",
       "    </tr>\n",
       "    <tr>\n",
       "      <th>2</th>\n",
       "      <td>101.0</td>\n",
       "      <td>0.0</td>\n",
       "      <td>7.0</td>\n",
       "      <td>1.0</td>\n",
       "    </tr>\n",
       "    <tr>\n",
       "      <th>3</th>\n",
       "      <td>101.0</td>\n",
       "      <td>0.0</td>\n",
       "      <td>11.0</td>\n",
       "      <td>1.0</td>\n",
       "    </tr>\n",
       "    <tr>\n",
       "      <th>4</th>\n",
       "      <td>101.0</td>\n",
       "      <td>0.0</td>\n",
       "      <td>13.0</td>\n",
       "      <td>1.0</td>\n",
       "    </tr>\n",
       "    <tr>\n",
       "      <th>547</th>\n",
       "      <td>101.0</td>\n",
       "      <td>0.0</td>\n",
       "      <td>3967.0</td>\n",
       "      <td>1.0</td>\n",
       "    </tr>\n",
       "    <tr>\n",
       "      <th>548</th>\n",
       "      <td>101.0</td>\n",
       "      <td>0.0</td>\n",
       "      <td>3989.0</td>\n",
       "      <td>1.0</td>\n",
       "    </tr>\n",
       "  </tbody>\n",
       "</table>\n",
       "</div>"
      ],
      "text/plain": [
       "     Neurons  % Error  number of patterns  iterations\n",
       "0      101.0      0.0                 3.0         1.0\n",
       "1      101.0      0.0                 5.0         1.0\n",
       "2      101.0      0.0                 7.0         1.0\n",
       "3      101.0      0.0                11.0         1.0\n",
       "4      101.0      0.0                13.0         1.0\n",
       "547    101.0      0.0              3967.0         1.0\n",
       "548    101.0      0.0              3989.0         1.0"
      ]
     },
     "execution_count": 26,
     "metadata": {},
     "output_type": "execute_result"
    }
   ],
   "source": [
    "pd.concat([df4.head(5), df4.tail(2)])"
   ]
  },
  {
   "cell_type": "code",
   "execution_count": 29,
   "id": "903aafc2-297a-4190-97e2-4fd98491faf2",
   "metadata": {},
   "outputs": [
    {
     "data": {
      "image/png": "[encoded data removed]",
      "text/plain": [
       "<Figure size 640x480 with 1 Axes>"
      ]
     },
     "metadata": {},
     "output_type": "display_data"
    }
   ],
   "source": [
    "\n",
    "data4 = df4\n",
    "# data1 = pd.read_csv('data/steady_statez_flip_new_P4_5000_10.csv')\n",
    "first_error = data4.loc[data4['% Error'] > 0]\n",
    "first_error.columns = ['Neurons', '% Error', 'patterns', 'iterations']\n",
    "ndf = first_error.iloc[[0, -1]]\n",
    "point = ndf.iloc[0]\n",
    "ndf.reset_index(drop=True, inplace=True)\n",
    "\n",
    "s = '{}{}{}'.format('Network of ', round(data4.iloc[0]['Neurons']), ' Neuron with incresing Pattern Using the Energy Function n = 4 Testing Rule')\n",
    "\n",
    "plt.plot(data4['number of patterns'],data4['% Error'])\n",
    "plt.plot(data4['number of patterns'],data4['% Error'],'o')  \n",
    "plt.plot(point['patterns'],point['% Error'], marker='*', ls='none', ms=8)\n",
    "plt.annotate(str(round(point['patterns'])), xy=(point['patterns'],point['% Error']))\n",
    "plt.title(s)\n",
    "plt.ylabel('% Error')\n",
    "plt.xlabel('Patterns')\n",
    "\n",
    "# ax.text(point['number of patterns'],point['% Error'],point['% Error'], size=8)\n",
    "# plt.show()\n",
    "plt.savefig(\"C:/Users/scrwh/Documents/rmarkdown/hopfield_Network/data/Energy-Based_E4_Simulation_image_P4000.png\",dpi=1000,\n",
    "pad_inches = 0,bbox_inches='tight', transparent = False)\n",
    "\n",
    "\n",
    "\n",
    "del result, df4, data4, error, iterations, first_error, ndf, point\n",
    "\n"
   ]
  },
  {
   "cell_type": "code",
   "execution_count": 30,
   "id": "0b7373f7-c6a4-4803-978b-c8aaece77bad",
   "metadata": {},
   "outputs": [],
   "source": [
    "\n",
    "g = prime_generator(6000)     # give firt 1000 prime numbers\n",
    "a = list(g)\n",
    "q = Prime_range(100,102)\n",
    "b = list(q)"
   ]
  },
  {
   "cell_type": "code",
   "execution_count": 31,
   "id": "08b3a56b-88c6-4311-802d-208ad7955a72",
   "metadata": {},
   "outputs": [
    {
     "name": "stderr",
     "output_type": "stream",
     "text": [
      "100%|██████████| 782/782 [10:06<00:00,  1.29it/s]"
     ]
    },
    {
     "name": "stdout",
     "output_type": "stream",
     "text": [
      "\n",
      " \n",
      " Duration: 0:10:06.962618\n"
     ]
    },
    {
     "name": "stderr",
     "output_type": "stream",
     "text": [
      "\n"
     ]
    }
   ],
   "source": [
    "# start_time = time.time()\n",
    "start_times = datetime.now()\n",
    "\n",
    "for i in b:\n",
    "    result = []\n",
    "    for j in tqdm.tqdm(a):\n",
    "        # neuron = []\n",
    "        error = []\n",
    "        iterations = []\n",
    "        for nn in range(10):\n",
    "            v = RandomNet(i,j)\n",
    "            k = np.random.randint(len(v))\n",
    "            vr = v[k]\n",
    "            y =  steady_state_flipE(v,vr,4)\n",
    "            # neuron.append(y[1])\n",
    "            # print(y[0],y[3],y[5])\n",
    "            error.append(y[3])\n",
    "            iterations.append(y[5])\n",
    "        errors = round(st.mean(error),2)\n",
    "        iterationss = round(st.mean(iterations),2)\n",
    "        rr = (y[0],errors,j,iterationss)\n",
    "        result.append(rr)\n",
    "        \n",
    "end_times = datetime.now()\n",
    "print('\\n \\n Duration: {}'.format(end_times - start_times))\n",
    "        \n",
    "    \n",
    "df5 = pd.DataFrame(\n",
    "    result, columns=['Neurons', '% Error', 'number of patterns', 'iterations'], dtype=float)\n",
    "\n",
    "df5.to_csv(\"C:/Users/scrwh/Documents/rmarkdown/hopfield_Network/data/'Energy-Based_E4_Simulation_data_P6000.csv\",index = False) \n",
    "\n"
   ]
  },
  {
   "cell_type": "code",
   "execution_count": 32,
   "id": "32d4b06e-61e9-47d1-9c45-ea5b3ee9d839",
   "metadata": {},
   "outputs": [
    {
     "data": {
      "text/html": [
       "<div>\n",
       "<style scoped>\n",
       "    .dataframe tbody tr th:only-of-type {\n",
       "        vertical-align: middle;\n",
       "    }\n",
       "\n",
       "    .dataframe tbody tr th {\n",
       "        vertical-align: top;\n",
       "    }\n",
       "\n",
       "    .dataframe thead th {\n",
       "        text-align: right;\n",
       "    }\n",
       "</style>\n",
       "<table border=\"1\" class=\"dataframe\">\n",
       "  <thead>\n",
       "    <tr style=\"text-align: right;\">\n",
       "      <th></th>\n",
       "      <th>Neurons</th>\n",
       "      <th>% Error</th>\n",
       "      <th>number of patterns</th>\n",
       "      <th>iterations</th>\n",
       "    </tr>\n",
       "  </thead>\n",
       "  <tbody>\n",
       "    <tr>\n",
       "      <th>0</th>\n",
       "      <td>101.0</td>\n",
       "      <td>0.0</td>\n",
       "      <td>3.0</td>\n",
       "      <td>1.0</td>\n",
       "    </tr>\n",
       "    <tr>\n",
       "      <th>1</th>\n",
       "      <td>101.0</td>\n",
       "      <td>0.0</td>\n",
       "      <td>5.0</td>\n",
       "      <td>1.0</td>\n",
       "    </tr>\n",
       "    <tr>\n",
       "      <th>2</th>\n",
       "      <td>101.0</td>\n",
       "      <td>0.0</td>\n",
       "      <td>7.0</td>\n",
       "      <td>1.0</td>\n",
       "    </tr>\n",
       "    <tr>\n",
       "      <th>3</th>\n",
       "      <td>101.0</td>\n",
       "      <td>0.0</td>\n",
       "      <td>11.0</td>\n",
       "      <td>1.0</td>\n",
       "    </tr>\n",
       "    <tr>\n",
       "      <th>4</th>\n",
       "      <td>101.0</td>\n",
       "      <td>0.0</td>\n",
       "      <td>13.0</td>\n",
       "      <td>1.0</td>\n",
       "    </tr>\n",
       "    <tr>\n",
       "      <th>780</th>\n",
       "      <td>101.0</td>\n",
       "      <td>0.0</td>\n",
       "      <td>5981.0</td>\n",
       "      <td>1.0</td>\n",
       "    </tr>\n",
       "    <tr>\n",
       "      <th>781</th>\n",
       "      <td>101.0</td>\n",
       "      <td>0.0</td>\n",
       "      <td>5987.0</td>\n",
       "      <td>1.0</td>\n",
       "    </tr>\n",
       "  </tbody>\n",
       "</table>\n",
       "</div>"
      ],
      "text/plain": [
       "     Neurons  % Error  number of patterns  iterations\n",
       "0      101.0      0.0                 3.0         1.0\n",
       "1      101.0      0.0                 5.0         1.0\n",
       "2      101.0      0.0                 7.0         1.0\n",
       "3      101.0      0.0                11.0         1.0\n",
       "4      101.0      0.0                13.0         1.0\n",
       "780    101.0      0.0              5981.0         1.0\n",
       "781    101.0      0.0              5987.0         1.0"
      ]
     },
     "execution_count": 32,
     "metadata": {},
     "output_type": "execute_result"
    }
   ],
   "source": [
    "pd.concat([df5.head(5), df5.tail(2)])"
   ]
  },
  {
   "cell_type": "code",
   "execution_count": 33,
   "id": "9a54ea4b-5e86-498d-8ab8-89ee6bdf78f0",
   "metadata": {},
   "outputs": [
    {
     "data": {
      "image/png": "[encoded data removed]",
      "text/plain": [
       "<Figure size 640x480 with 1 Axes>"
      ]
     },
     "metadata": {},
     "output_type": "display_data"
    }
   ],
   "source": [
    "\n",
    "data5 = df5\n",
    "# data1 = pd.read_csv('data/steady_statez_flip_new_P4_5000_10.csv')\n",
    "first_error = data5.loc[data5['% Error'] > 0]\n",
    "first_error.columns = ['Neurons', '% Error', 'patterns', 'iterations']\n",
    "ndf = first_error.iloc[[0, -1]]\n",
    "point = ndf.iloc[0]\n",
    "ndf.reset_index(drop=True, inplace=True)\n",
    "\n",
    "s = '{}{}{}'.format('Network of ', round(data5.iloc[0]['Neurons']), ' Neuron with incresing Pattern Using the Energy Function n = 4 Testing Rule')\n",
    "\n",
    "plt.plot(data5['number of patterns'],data5['% Error'])\n",
    "plt.plot(data5['number of patterns'],data5['% Error'],'o')  \n",
    "plt.plot(point['patterns'],point['% Error'], marker='*', ls='none', ms=8)\n",
    "plt.annotate(str(round(point['patterns'])), xy=(point['patterns'],point['% Error']))\n",
    "plt.title(s)\n",
    "plt.ylabel('% Error')\n",
    "plt.xlabel('Patterns')\n",
    "\n",
    "# ax.text(point['number of patterns'],point['% Error'],point['% Error'], size=8)\n",
    "# plt.show()\n",
    "plt.savefig(\"C:/Users/scrwh/Documents/rmarkdown/hopfield_Network/data/Energy-Based_E4_Simulation_image_P6000.png\",dpi=1000,\n",
    "pad_inches = 0,bbox_inches='tight', transparent = False)\n",
    "\n",
    "\n",
    "\n",
    "del result, df5, data5, error, iterations, first_error, ndf, point"
   ]
  },
  {
   "cell_type": "code",
   "execution_count": 34,
   "id": "a70c0a54-83a5-4fc6-bdd7-d096a3d8bc7a",
   "metadata": {},
   "outputs": [],
   "source": [
    "\n",
    "g = prime_generator(10000)     # give firt 1000 prime numbers\n",
    "a = list(g)\n",
    "q = Prime_range(100,102)\n",
    "b = list(q)"
   ]
  },
  {
   "cell_type": "code",
   "execution_count": 35,
   "id": "662d106f-6098-4303-9dd2-de1fa6fbdb26",
   "metadata": {
    "tags": []
   },
   "outputs": [
    {
     "name": "stderr",
     "output_type": "stream",
     "text": [
      "100%|██████████| 1228/1228 [10:41<00:00,  1.91it/s]"
     ]
    },
    {
     "name": "stdout",
     "output_type": "stream",
     "text": [
      "\n",
      " \n",
      " Duration: 0:10:41.669696\n"
     ]
    },
    {
     "name": "stderr",
     "output_type": "stream",
     "text": [
      "\n"
     ]
    }
   ],
   "source": [
    "# start_time = time.time()\n",
    "start_times = datetime.now()\n",
    "\n",
    "for i in b:\n",
    "    result = []\n",
    "    for j in tqdm.tqdm(a):\n",
    "        # neuron = []\n",
    "        error = []\n",
    "        iterations = []\n",
    "        for nn in range(5):\n",
    "            v = RandomNet(i,j)\n",
    "            k = np.random.randint(len(v))\n",
    "            vr = v[k]\n",
    "            y =  steady_state_flipE(v,vr,4)\n",
    "            # neuron.append(y[1])\n",
    "            # print(y[0],y[3],y[5])\n",
    "            error.append(y[3])\n",
    "            iterations.append(y[5])\n",
    "        errors = round(st.mean(error),2)\n",
    "        iterationss = round(st.mean(iterations),2)\n",
    "        rr = (y[0],errors,j,iterationss)\n",
    "        result.append(rr)\n",
    "        \n",
    "end_times = datetime.now()\n",
    "print('\\n \\n Duration: {}'.format(end_times - start_times))\n",
    "        \n",
    "    \n",
    "df6 = pd.DataFrame(\n",
    "    result, columns=['Neurons', '% Error', 'number of patterns', 'iterations'], dtype=float)\n",
    "\n",
    "df6.to_csv(\"C:/Users/scrwh/Documents/rmarkdown/hopfield_Network/data/'Energy-Based_E4_Simulation_data_P10000.csv\",index = False) \n",
    "\n"
   ]
  },
  {
   "cell_type": "code",
   "execution_count": 36,
   "id": "b0da78c4-9fa4-4860-8274-c0443a580d9b",
   "metadata": {},
   "outputs": [
    {
     "data": {
      "text/html": [
       "<div>\n",
       "<style scoped>\n",
       "    .dataframe tbody tr th:only-of-type {\n",
       "        vertical-align: middle;\n",
       "    }\n",
       "\n",
       "    .dataframe tbody tr th {\n",
       "        vertical-align: top;\n",
       "    }\n",
       "\n",
       "    .dataframe thead th {\n",
       "        text-align: right;\n",
       "    }\n",
       "</style>\n",
       "<table border=\"1\" class=\"dataframe\">\n",
       "  <thead>\n",
       "    <tr style=\"text-align: right;\">\n",
       "      <th></th>\n",
       "      <th>Neurons</th>\n",
       "      <th>% Error</th>\n",
       "      <th>number of patterns</th>\n",
       "      <th>iterations</th>\n",
       "    </tr>\n",
       "  </thead>\n",
       "  <tbody>\n",
       "    <tr>\n",
       "      <th>0</th>\n",
       "      <td>101.0</td>\n",
       "      <td>0.0</td>\n",
       "      <td>3.0</td>\n",
       "      <td>1.0</td>\n",
       "    </tr>\n",
       "    <tr>\n",
       "      <th>1</th>\n",
       "      <td>101.0</td>\n",
       "      <td>0.0</td>\n",
       "      <td>5.0</td>\n",
       "      <td>1.0</td>\n",
       "    </tr>\n",
       "    <tr>\n",
       "      <th>2</th>\n",
       "      <td>101.0</td>\n",
       "      <td>0.0</td>\n",
       "      <td>7.0</td>\n",
       "      <td>1.0</td>\n",
       "    </tr>\n",
       "    <tr>\n",
       "      <th>3</th>\n",
       "      <td>101.0</td>\n",
       "      <td>0.0</td>\n",
       "      <td>11.0</td>\n",
       "      <td>1.0</td>\n",
       "    </tr>\n",
       "    <tr>\n",
       "      <th>4</th>\n",
       "      <td>101.0</td>\n",
       "      <td>0.0</td>\n",
       "      <td>13.0</td>\n",
       "      <td>1.0</td>\n",
       "    </tr>\n",
       "    <tr>\n",
       "      <th>1226</th>\n",
       "      <td>101.0</td>\n",
       "      <td>0.0</td>\n",
       "      <td>9967.0</td>\n",
       "      <td>1.0</td>\n",
       "    </tr>\n",
       "    <tr>\n",
       "      <th>1227</th>\n",
       "      <td>101.0</td>\n",
       "      <td>0.6</td>\n",
       "      <td>9973.0</td>\n",
       "      <td>1.0</td>\n",
       "    </tr>\n",
       "  </tbody>\n",
       "</table>\n",
       "</div>"
      ],
      "text/plain": [
       "      Neurons  % Error  number of patterns  iterations\n",
       "0       101.0      0.0                 3.0         1.0\n",
       "1       101.0      0.0                 5.0         1.0\n",
       "2       101.0      0.0                 7.0         1.0\n",
       "3       101.0      0.0                11.0         1.0\n",
       "4       101.0      0.0                13.0         1.0\n",
       "1226    101.0      0.0              9967.0         1.0\n",
       "1227    101.0      0.6              9973.0         1.0"
      ]
     },
     "execution_count": 36,
     "metadata": {},
     "output_type": "execute_result"
    }
   ],
   "source": [
    "pd.concat([df6.head(5), df6.tail(2)])"
   ]
  },
  {
   "cell_type": "code",
   "execution_count": 37,
   "id": "d9cce6f1-1eaa-4a66-ac0b-59b0fba532bf",
   "metadata": {},
   "outputs": [
    {
     "data": {
      "image/png": "[encoded data removed]",
      "text/plain": [
       "<Figure size 640x480 with 1 Axes>"
      ]
     },
     "metadata": {},
     "output_type": "display_data"
    }
   ],
   "source": [
    "\n",
    "data6 = df6\n",
    "# data1 = pd.read_csv('data/steady_statez_flip_new_P4_5000_10.csv')\n",
    "first_error = data6.loc[data6['% Error'] > 0]\n",
    "first_error.columns = ['Neurons', '% Error', 'patterns', 'iterations']\n",
    "ndf = first_error.iloc[[0, -1]]\n",
    "point = ndf.iloc[0]\n",
    "ndf.reset_index(drop=True, inplace=True)\n",
    "\n",
    "s = '{}{}{}'.format('Network of ', round(data6.iloc[0]['Neurons']), ' Neuron with incresing Pattern Using the Energy Function n = 4 Testing Rule')\n",
    "\n",
    "plt.plot(data6['number of patterns'],data6['% Error'])\n",
    "plt.plot(data6['number of patterns'],data6['% Error'],'o')  \n",
    "plt.plot(point['patterns'],point['% Error'], marker='*', ls='none', ms=8)\n",
    "plt.annotate(str(round(point['patterns'])), xy=(point['patterns'],point['% Error']))\n",
    "plt.title(s)\n",
    "plt.ylabel('% Error')\n",
    "plt.xlabel('Patterns')\n",
    "\n",
    "# ax.text(point['number of patterns'],point['% Error'],point['% Error'], size=8)\n",
    "# plt.show()\n",
    "plt.savefig(\"C:/Users/scrwh/Documents/rmarkdown/hopfield_Network/data/Energy-Based_E4_Simulation_image_P10000.png\",dpi=1000,\n",
    "pad_inches = 0,bbox_inches='tight', transparent = False)\n",
    "\n",
    "\n",
    "\n",
    "del result, df6, data6, error, iterations, first_error, ndf, point"
   ]
  },
  {
   "cell_type": "code",
   "execution_count": null,
   "id": "7ccd2cc7-6ee1-40f7-b25b-2f8ff4fb7452",
   "metadata": {},
   "outputs": [],
   "source": []
  },
  {
   "cell_type": "markdown",
   "id": "621152ea-7af0-4e35-81ed-21c09ebb61ea",
   "metadata": {},
   "source": [
    "# Read in the data"
   ]
  },
  {
   "cell_type": "code",
   "execution_count": null,
   "id": "9d40b855-8b3a-4493-851c-3f7fcd3b7931",
   "metadata": {},
   "outputs": [],
   "source": [
    "df1 = pd.read_csv(r'C:/Users/scrwh/Documents/rmarkdown/hopfield_Network/data/steady_statez_flip_new_P2.csv')\n",
    "df2 = pd.read_csv(r'C:/Users/scrwh/Documents/rmarkdown/hopfield_Network/data/steady_statez_flip_new_P4_100.csv')\n",
    "df3 = pd.read_csv(r'C:/Users/scrwh/Documents/rmarkdown/hopfield_Network/data/steady_statez_flip_new_P4_5000_10.csv')\n",
    "df4 = pd.read_csv(r'C:/Users/scrwh/Documents/rmarkdown/hopfield_Network/data/steady_statez_flip_new_P4_6000_10.csv')\n",
    "df5 = pd.read_csv(r'C:/Users/scrwh/Documents/rmarkdown/hopfield_Network/data/steady_statez_flip_new_P2_10000_2.csv')\n",
    "# df6 = pd.read_csv(r'C:/Users/scrwh/Documents/rmarkdown/hopfield_Network/data/steady_statez_flip_new_P2.csv')\n",
    "# df7 = pd.read_csv(r'C:/Users/scrwh/Documents/rmarkdown/hopfield_Network/data/steady_statez_flip_new_P2.csv')\n",
    "# df8 = pd.read_csv(r'C:/Users/scrwh/Documents/rmarkdown/hopfield_Network/data/steady_statez_flip_new_P2.csv')"
   ]
  },
  {
   "cell_type": "code",
   "execution_count": null,
   "id": "a110f860-2d90-4037-a114-c660e149c50d",
   "metadata": {},
   "outputs": [],
   "source": []
  },
  {
   "cell_type": "code",
   "execution_count": null,
   "id": "37a9e770-d68f-4cb2-a262-eb7cd6e1de73",
   "metadata": {},
   "outputs": [],
   "source": []
  },
  {
   "cell_type": "code",
   "execution_count": null,
   "id": "72924180-8a25-483b-ae6f-15f72a6d3549",
   "metadata": {},
   "outputs": [],
   "source": []
  },
  {
   "cell_type": "code",
   "execution_count": null,
   "id": "1885e2f5-3c27-4c65-9d28-405e4855bdfb",
   "metadata": {},
   "outputs": [],
   "source": []
  },
  {
   "cell_type": "code",
   "execution_count": null,
   "id": "984c5179-6a8c-4d93-b5bd-89fb440e162d",
   "metadata": {},
   "outputs": [],
   "source": []
  },
  {
   "cell_type": "code",
   "execution_count": null,
   "id": "ee5681f8-e1ab-4e8c-8f5a-1d903e59cffc",
   "metadata": {},
   "outputs": [],
   "source": []
  },
  {
   "cell_type": "code",
   "execution_count": null,
   "id": "55ce8ec2-14c6-4345-aaa7-29c3406e22c2",
   "metadata": {},
   "outputs": [],
   "source": []
  }
 ],
 "metadata": {
  "kernelspec": {
   "display_name": "Python 3 (ipykernel)",
   "language": "python",
   "name": "python3"
  },
  "language_info": {
   "codemirror_mode": {
    "name": "ipython",
    "version": 3
   },
   "file_extension": ".py",
   "mimetype": "text/x-python",
   "name": "python",
   "nbconvert_exporter": "python",
   "pygments_lexer": "ipython3",
   "version": "3.9.15"
  }
 },
 "nbformat": 4,
 "nbformat_minor": 5
}
